{
 "cells": [
  {
   "cell_type": "markdown",
   "metadata": {},
   "source": [
    "# Project 1 - Regression\n",
    "## Predict total bikes that will be rented per day\n",
    "### This notebook uses the *bike_day_v2.xlsx* \n",
    "Adaptation from Fanaee-T, Hadi, and Gama, Joao, \"Event labeling combining ensemble detectors and background knowledge\", Progress in Artificial Intelligence (2013): pp. 1-15, Springer Berlin Heidelberg, doi:10.1007/s13748-013-0040-3.\n",
    "\n",
    "(c) Nuno António 2023 - Rev. 1.0"
   ]
  },
  {
   "cell_type": "markdown",
   "metadata": {},
   "source": [
    "## Dataset description\n",
    "\n",
    "- **instant**: record index\n",
    "- **dteday** : date\n",
    "- **season** : season (1:springer, 2:summer, 3:fall, 4:winter)\n",
    "- **yr** : year (0: 2011, 1:2012)\n",
    "- **mnth** : month ( 1 to 12)\n",
    "- **holiday** : weather day is holiday or not (extracted from http://dchr.dc.gov/page/holiday-schedule)\n",
    "- **weekday** : day of the week\n",
    "- **workingday** : if day is neither weekend nor holiday is 1, otherwise is 0\n",
    "- **schoolday** : if day is a normal school day is 1, otherwise is 0\n",
    "- **weathersit** : \n",
    "\t- 1: Clear, Few clouds, Partly cloudy, Partly cloudy\n",
    "\t- 2: Mist + Cloudy, Mist + Broken clouds, Mist + Few clouds, Mist\n",
    "\t- 3: Light Snow, Light Rain + Thunderstorm + Scattered clouds, Light Rain + Scattered clouds\n",
    "\t- 4: Heavy Rain + Ice Pallets + Thunderstorm + Mist, Snow + Fog\n",
    "- **temp** : Normalized temperature in Celsius. The values are divided to 41 (max)\n",
    "- **atemp**: Normalized feeling temperature in Celsius. The values are divided to 50 (max)\n",
    "- **hum**: Normalized humidity. The values are divided to 100 (max)\n",
    "- **windspeed**: Normalized wind speed. The values are divided to 67 (max)\n",
    "- **casual**: count of casual users\n",
    "- **registered**: count of registered users\n",
    "- **cnt**: count of total rental bikes including both casual and registered"
   ]
  },
  {
   "cell_type": "markdown",
   "metadata": {},
   "source": [
    "## Work description\n",
    "\n",
    "### Overview\n",
    "<p>You should organize into groups of 3 to 5 students, where you will assume the role of a consultant for a company that rent bikes in a city.</p>\n",
    "<p>Your customer whishes to build a model to predict everyday at 15h00 the total number of bikes they will rent the following day. This will allow them not only to better allocate staff resources, but also to define their daily marketing budget in social media which is their principal form of advertisement.</p>\n",
    "\n",
    "### Questions or additional information\n",
    "For any additional questions, don't hesitate to get in touch with the instructors. The instructors will also act as the company business/project stakeholder."
   ]
  },
  {
   "cell_type": "markdown",
   "metadata": {},
   "source": [
    "Group O \n",
    "Muhammet Emin Imir 20231378\n",
    "EBUKA NWACHUKWU 20230089\n",
    "OJI Chimezie Alexander 20221432\n",
    "Syed Akhteruzzaman  20230060"
   ]
  },
  {
   "cell_type": "markdown",
   "metadata": {},
   "source": [
    "## Initializations and data loading"
   ]
  },
  {
   "cell_type": "code",
   "execution_count": 1,
   "metadata": {},
   "outputs": [],
   "source": [
    "import os\n",
    "import csv\n",
    "import numpy as np\n",
    "import pandas as pd\n",
    "import matplotlib.pyplot as plt\n",
    "import seaborn as  sns\n",
    "import category_encoders as ce\n",
    "from sklearn import preprocessing\n",
    "from sklearn.model_selection import train_test_split\n",
    "from sklearn import linear_model\n",
    "from sklearn import metrics\n",
    "from yellowbrick.model_selection import RFECV\n",
    "from yellowbrick.model_selection import LearningCurve\n",
    "from yellowbrick.regressor import ResidualsPlot\n",
    "from yellowbrick.regressor import PredictionError\n"
   ]
  },
  {
   "cell_type": "markdown",
   "metadata": {},
   "source": [
    "# DATA UNDERSTANDING"
   ]
  },
  {
   "cell_type": "code",
   "execution_count": 2,
   "metadata": {},
   "outputs": [
    {
     "name": "stderr",
     "output_type": "stream",
     "text": [
      "C:\\Users\\nwach\\AppData\\Local\\Temp\\ipykernel_3728\\1038487648.py:4: FutureWarning: Treating datetime data as categorical rather than numeric in `.describe` is deprecated and will be removed in a future version of pandas. Specify `datetime_is_numeric=True` to silence this warning and adopt the future behavior now.\n",
      "  ds.describe(include='all').T\n"
     ]
    },
    {
     "data": {
      "text/html": [
       "<div>\n",
       "<style scoped>\n",
       "    .dataframe tbody tr th:only-of-type {\n",
       "        vertical-align: middle;\n",
       "    }\n",
       "\n",
       "    .dataframe tbody tr th {\n",
       "        vertical-align: top;\n",
       "    }\n",
       "\n",
       "    .dataframe thead th {\n",
       "        text-align: right;\n",
       "    }\n",
       "</style>\n",
       "<table border=\"1\" class=\"dataframe\">\n",
       "  <thead>\n",
       "    <tr style=\"text-align: right;\">\n",
       "      <th></th>\n",
       "      <th>count</th>\n",
       "      <th>unique</th>\n",
       "      <th>top</th>\n",
       "      <th>freq</th>\n",
       "      <th>first</th>\n",
       "      <th>last</th>\n",
       "      <th>mean</th>\n",
       "      <th>std</th>\n",
       "      <th>min</th>\n",
       "      <th>25%</th>\n",
       "      <th>50%</th>\n",
       "      <th>75%</th>\n",
       "      <th>max</th>\n",
       "    </tr>\n",
       "  </thead>\n",
       "  <tbody>\n",
       "    <tr>\n",
       "      <th>instant</th>\n",
       "      <td>732.0</td>\n",
       "      <td>NaN</td>\n",
       "      <td>NaT</td>\n",
       "      <td>NaN</td>\n",
       "      <td>NaT</td>\n",
       "      <td>NaT</td>\n",
       "      <td>366.352459</td>\n",
       "      <td>211.236679</td>\n",
       "      <td>1.0</td>\n",
       "      <td>183.75</td>\n",
       "      <td>366.5</td>\n",
       "      <td>549.25</td>\n",
       "      <td>731.0</td>\n",
       "    </tr>\n",
       "    <tr>\n",
       "      <th>dteday</th>\n",
       "      <td>732</td>\n",
       "      <td>731</td>\n",
       "      <td>2012-09-15</td>\n",
       "      <td>2</td>\n",
       "      <td>2011-01-01</td>\n",
       "      <td>2012-12-31</td>\n",
       "      <td>NaN</td>\n",
       "      <td>NaN</td>\n",
       "      <td>NaN</td>\n",
       "      <td>NaN</td>\n",
       "      <td>NaN</td>\n",
       "      <td>NaN</td>\n",
       "      <td>NaN</td>\n",
       "    </tr>\n",
       "    <tr>\n",
       "      <th>season</th>\n",
       "      <td>732.0</td>\n",
       "      <td>NaN</td>\n",
       "      <td>NaT</td>\n",
       "      <td>NaN</td>\n",
       "      <td>NaT</td>\n",
       "      <td>NaT</td>\n",
       "      <td>2.497268</td>\n",
       "      <td>1.110203</td>\n",
       "      <td>1.0</td>\n",
       "      <td>2.0</td>\n",
       "      <td>3.0</td>\n",
       "      <td>3.0</td>\n",
       "      <td>4.0</td>\n",
       "    </tr>\n",
       "    <tr>\n",
       "      <th>yr</th>\n",
       "      <td>732.0</td>\n",
       "      <td>NaN</td>\n",
       "      <td>NaT</td>\n",
       "      <td>NaN</td>\n",
       "      <td>NaT</td>\n",
       "      <td>NaT</td>\n",
       "      <td>0.501366</td>\n",
       "      <td>0.50034</td>\n",
       "      <td>0.0</td>\n",
       "      <td>0.0</td>\n",
       "      <td>1.0</td>\n",
       "      <td>1.0</td>\n",
       "      <td>1.0</td>\n",
       "    </tr>\n",
       "    <tr>\n",
       "      <th>mnth</th>\n",
       "      <td>732.0</td>\n",
       "      <td>NaN</td>\n",
       "      <td>NaT</td>\n",
       "      <td>NaN</td>\n",
       "      <td>NaT</td>\n",
       "      <td>NaT</td>\n",
       "      <td>6.523224</td>\n",
       "      <td>3.450769</td>\n",
       "      <td>1.0</td>\n",
       "      <td>4.0</td>\n",
       "      <td>7.0</td>\n",
       "      <td>10.0</td>\n",
       "      <td>12.0</td>\n",
       "    </tr>\n",
       "    <tr>\n",
       "      <th>holiday</th>\n",
       "      <td>732.0</td>\n",
       "      <td>NaN</td>\n",
       "      <td>NaT</td>\n",
       "      <td>NaN</td>\n",
       "      <td>NaT</td>\n",
       "      <td>NaT</td>\n",
       "      <td>0.028689</td>\n",
       "      <td>0.167044</td>\n",
       "      <td>0.0</td>\n",
       "      <td>0.0</td>\n",
       "      <td>0.0</td>\n",
       "      <td>0.0</td>\n",
       "      <td>1.0</td>\n",
       "    </tr>\n",
       "    <tr>\n",
       "      <th>weekday</th>\n",
       "      <td>730.0</td>\n",
       "      <td>NaN</td>\n",
       "      <td>NaT</td>\n",
       "      <td>NaN</td>\n",
       "      <td>NaT</td>\n",
       "      <td>NaT</td>\n",
       "      <td>3.00274</td>\n",
       "      <td>2.004793</td>\n",
       "      <td>0.0</td>\n",
       "      <td>1.0</td>\n",
       "      <td>3.0</td>\n",
       "      <td>5.0</td>\n",
       "      <td>6.0</td>\n",
       "    </tr>\n",
       "    <tr>\n",
       "      <th>workingday</th>\n",
       "      <td>732.0</td>\n",
       "      <td>NaN</td>\n",
       "      <td>NaT</td>\n",
       "      <td>NaN</td>\n",
       "      <td>NaT</td>\n",
       "      <td>NaT</td>\n",
       "      <td>0.68306</td>\n",
       "      <td>0.465602</td>\n",
       "      <td>0.0</td>\n",
       "      <td>0.0</td>\n",
       "      <td>1.0</td>\n",
       "      <td>1.0</td>\n",
       "      <td>1.0</td>\n",
       "    </tr>\n",
       "    <tr>\n",
       "      <th>schoolday</th>\n",
       "      <td>454.0</td>\n",
       "      <td>NaN</td>\n",
       "      <td>NaT</td>\n",
       "      <td>NaN</td>\n",
       "      <td>NaT</td>\n",
       "      <td>NaT</td>\n",
       "      <td>0.460352</td>\n",
       "      <td>0.498975</td>\n",
       "      <td>0.0</td>\n",
       "      <td>0.0</td>\n",
       "      <td>0.0</td>\n",
       "      <td>1.0</td>\n",
       "      <td>1.0</td>\n",
       "    </tr>\n",
       "    <tr>\n",
       "      <th>weathersit</th>\n",
       "      <td>732.0</td>\n",
       "      <td>NaN</td>\n",
       "      <td>NaT</td>\n",
       "      <td>NaN</td>\n",
       "      <td>NaT</td>\n",
       "      <td>NaT</td>\n",
       "      <td>1.394809</td>\n",
       "      <td>0.544718</td>\n",
       "      <td>1.0</td>\n",
       "      <td>1.0</td>\n",
       "      <td>1.0</td>\n",
       "      <td>2.0</td>\n",
       "      <td>3.0</td>\n",
       "    </tr>\n",
       "    <tr>\n",
       "      <th>temp</th>\n",
       "      <td>732.0</td>\n",
       "      <td>NaN</td>\n",
       "      <td>NaT</td>\n",
       "      <td>NaN</td>\n",
       "      <td>NaT</td>\n",
       "      <td>NaT</td>\n",
       "      <td>0.495539</td>\n",
       "      <td>0.182973</td>\n",
       "      <td>0.05913</td>\n",
       "      <td>0.337292</td>\n",
       "      <td>0.499167</td>\n",
       "      <td>0.655208</td>\n",
       "      <td>0.861667</td>\n",
       "    </tr>\n",
       "    <tr>\n",
       "      <th>atemp</th>\n",
       "      <td>732.0</td>\n",
       "      <td>NaN</td>\n",
       "      <td>NaT</td>\n",
       "      <td>NaN</td>\n",
       "      <td>NaT</td>\n",
       "      <td>NaT</td>\n",
       "      <td>0.474506</td>\n",
       "      <td>0.162902</td>\n",
       "      <td>0.07907</td>\n",
       "      <td>0.337891</td>\n",
       "      <td>0.487364</td>\n",
       "      <td>0.608289</td>\n",
       "      <td>0.840896</td>\n",
       "    </tr>\n",
       "    <tr>\n",
       "      <th>hum</th>\n",
       "      <td>732.0</td>\n",
       "      <td>NaN</td>\n",
       "      <td>NaT</td>\n",
       "      <td>NaN</td>\n",
       "      <td>NaT</td>\n",
       "      <td>NaT</td>\n",
       "      <td>0.627722</td>\n",
       "      <td>0.142408</td>\n",
       "      <td>0.0</td>\n",
       "      <td>0.519792</td>\n",
       "      <td>0.62625</td>\n",
       "      <td>0.730104</td>\n",
       "      <td>0.9725</td>\n",
       "    </tr>\n",
       "    <tr>\n",
       "      <th>windspeed</th>\n",
       "      <td>732.0</td>\n",
       "      <td>NaN</td>\n",
       "      <td>NaT</td>\n",
       "      <td>NaN</td>\n",
       "      <td>NaT</td>\n",
       "      <td>NaT</td>\n",
       "      <td>0.204019</td>\n",
       "      <td>0.379164</td>\n",
       "      <td>0.022392</td>\n",
       "      <td>0.13495</td>\n",
       "      <td>0.180975</td>\n",
       "      <td>0.233376</td>\n",
       "      <td>10.234234</td>\n",
       "    </tr>\n",
       "    <tr>\n",
       "      <th>casual</th>\n",
       "      <td>732.0</td>\n",
       "      <td>NaN</td>\n",
       "      <td>NaT</td>\n",
       "      <td>NaN</td>\n",
       "      <td>NaT</td>\n",
       "      <td>NaT</td>\n",
       "      <td>851.334699</td>\n",
       "      <td>691.452652</td>\n",
       "      <td>2.0</td>\n",
       "      <td>315.75</td>\n",
       "      <td>717.0</td>\n",
       "      <td>1097.75</td>\n",
       "      <td>3410.0</td>\n",
       "    </tr>\n",
       "    <tr>\n",
       "      <th>registered</th>\n",
       "      <td>732.0</td>\n",
       "      <td>NaN</td>\n",
       "      <td>NaT</td>\n",
       "      <td>NaN</td>\n",
       "      <td>NaT</td>\n",
       "      <td>NaT</td>\n",
       "      <td>3658.765027</td>\n",
       "      <td>1560.765887</td>\n",
       "      <td>20.0</td>\n",
       "      <td>2499.0</td>\n",
       "      <td>3664.5</td>\n",
       "      <td>4792.75</td>\n",
       "      <td>6946.0</td>\n",
       "    </tr>\n",
       "    <tr>\n",
       "      <th>cnt</th>\n",
       "      <td>732.0</td>\n",
       "      <td>NaN</td>\n",
       "      <td>NaT</td>\n",
       "      <td>NaN</td>\n",
       "      <td>NaT</td>\n",
       "      <td>NaT</td>\n",
       "      <td>4510.099727</td>\n",
       "      <td>1942.128645</td>\n",
       "      <td>22.0</td>\n",
       "      <td>3157.5</td>\n",
       "      <td>4548.5</td>\n",
       "      <td>5978.5</td>\n",
       "      <td>8714.0</td>\n",
       "    </tr>\n",
       "  </tbody>\n",
       "</table>\n",
       "</div>"
      ],
      "text/plain": [
       "            count unique        top freq      first       last         mean  \\\n",
       "instant     732.0    NaN        NaT  NaN        NaT        NaT   366.352459   \n",
       "dteday        732    731 2012-09-15    2 2011-01-01 2012-12-31          NaN   \n",
       "season      732.0    NaN        NaT  NaN        NaT        NaT     2.497268   \n",
       "yr          732.0    NaN        NaT  NaN        NaT        NaT     0.501366   \n",
       "mnth        732.0    NaN        NaT  NaN        NaT        NaT     6.523224   \n",
       "holiday     732.0    NaN        NaT  NaN        NaT        NaT     0.028689   \n",
       "weekday     730.0    NaN        NaT  NaN        NaT        NaT      3.00274   \n",
       "workingday  732.0    NaN        NaT  NaN        NaT        NaT      0.68306   \n",
       "schoolday   454.0    NaN        NaT  NaN        NaT        NaT     0.460352   \n",
       "weathersit  732.0    NaN        NaT  NaN        NaT        NaT     1.394809   \n",
       "temp        732.0    NaN        NaT  NaN        NaT        NaT     0.495539   \n",
       "atemp       732.0    NaN        NaT  NaN        NaT        NaT     0.474506   \n",
       "hum         732.0    NaN        NaT  NaN        NaT        NaT     0.627722   \n",
       "windspeed   732.0    NaN        NaT  NaN        NaT        NaT     0.204019   \n",
       "casual      732.0    NaN        NaT  NaN        NaT        NaT   851.334699   \n",
       "registered  732.0    NaN        NaT  NaN        NaT        NaT  3658.765027   \n",
       "cnt         732.0    NaN        NaT  NaN        NaT        NaT  4510.099727   \n",
       "\n",
       "                    std       min       25%       50%       75%        max  \n",
       "instant      211.236679       1.0    183.75     366.5    549.25      731.0  \n",
       "dteday              NaN       NaN       NaN       NaN       NaN        NaN  \n",
       "season         1.110203       1.0       2.0       3.0       3.0        4.0  \n",
       "yr              0.50034       0.0       0.0       1.0       1.0        1.0  \n",
       "mnth           3.450769       1.0       4.0       7.0      10.0       12.0  \n",
       "holiday        0.167044       0.0       0.0       0.0       0.0        1.0  \n",
       "weekday        2.004793       0.0       1.0       3.0       5.0        6.0  \n",
       "workingday     0.465602       0.0       0.0       1.0       1.0        1.0  \n",
       "schoolday      0.498975       0.0       0.0       0.0       1.0        1.0  \n",
       "weathersit     0.544718       1.0       1.0       1.0       2.0        3.0  \n",
       "temp           0.182973   0.05913  0.337292  0.499167  0.655208   0.861667  \n",
       "atemp          0.162902   0.07907  0.337891  0.487364  0.608289   0.840896  \n",
       "hum            0.142408       0.0  0.519792   0.62625  0.730104     0.9725  \n",
       "windspeed      0.379164  0.022392   0.13495  0.180975  0.233376  10.234234  \n",
       "casual       691.452652       2.0    315.75     717.0   1097.75     3410.0  \n",
       "registered  1560.765887      20.0    2499.0    3664.5   4792.75     6946.0  \n",
       "cnt         1942.128645      22.0    3157.5    4548.5    5978.5     8714.0  "
      ]
     },
     "execution_count": 2,
     "metadata": {},
     "output_type": "execute_result"
    }
   ],
   "source": [
    "#DATA UNDERSTANDING\n",
    "# Loading the dataset and visualizing summary statistics\n",
    "ds = pd.read_excel('bike_day_v2.xlsx', engine='openpyxl')\n",
    "ds.describe(include='all').T"
   ]
  },
  {
   "cell_type": "code",
   "execution_count": 3,
   "metadata": {},
   "outputs": [
    {
     "data": {
      "text/html": [
       "<div>\n",
       "<style scoped>\n",
       "    .dataframe tbody tr th:only-of-type {\n",
       "        vertical-align: middle;\n",
       "    }\n",
       "\n",
       "    .dataframe tbody tr th {\n",
       "        vertical-align: top;\n",
       "    }\n",
       "\n",
       "    .dataframe thead th {\n",
       "        text-align: right;\n",
       "    }\n",
       "</style>\n",
       "<table border=\"1\" class=\"dataframe\">\n",
       "  <thead>\n",
       "    <tr style=\"text-align: right;\">\n",
       "      <th></th>\n",
       "      <th>instant</th>\n",
       "      <th>dteday</th>\n",
       "      <th>season</th>\n",
       "      <th>yr</th>\n",
       "      <th>mnth</th>\n",
       "      <th>holiday</th>\n",
       "      <th>weekday</th>\n",
       "      <th>workingday</th>\n",
       "      <th>schoolday</th>\n",
       "      <th>weathersit</th>\n",
       "      <th>temp</th>\n",
       "      <th>atemp</th>\n",
       "      <th>hum</th>\n",
       "      <th>windspeed</th>\n",
       "      <th>casual</th>\n",
       "      <th>registered</th>\n",
       "      <th>cnt</th>\n",
       "    </tr>\n",
       "  </thead>\n",
       "  <tbody>\n",
       "    <tr>\n",
       "      <th>0</th>\n",
       "      <td>1</td>\n",
       "      <td>2011-01-01</td>\n",
       "      <td>1</td>\n",
       "      <td>0</td>\n",
       "      <td>1</td>\n",
       "      <td>0</td>\n",
       "      <td>6.0</td>\n",
       "      <td>0</td>\n",
       "      <td>0.0</td>\n",
       "      <td>2</td>\n",
       "      <td>0.344167</td>\n",
       "      <td>0.363625</td>\n",
       "      <td>0.805833</td>\n",
       "      <td>0.160446</td>\n",
       "      <td>331</td>\n",
       "      <td>654</td>\n",
       "      <td>985</td>\n",
       "    </tr>\n",
       "    <tr>\n",
       "      <th>1</th>\n",
       "      <td>2</td>\n",
       "      <td>2011-01-02</td>\n",
       "      <td>1</td>\n",
       "      <td>0</td>\n",
       "      <td>1</td>\n",
       "      <td>0</td>\n",
       "      <td>0.0</td>\n",
       "      <td>0</td>\n",
       "      <td>0.0</td>\n",
       "      <td>2</td>\n",
       "      <td>0.363478</td>\n",
       "      <td>0.353739</td>\n",
       "      <td>0.696087</td>\n",
       "      <td>0.248539</td>\n",
       "      <td>131</td>\n",
       "      <td>670</td>\n",
       "      <td>801</td>\n",
       "    </tr>\n",
       "    <tr>\n",
       "      <th>2</th>\n",
       "      <td>3</td>\n",
       "      <td>2011-01-03</td>\n",
       "      <td>1</td>\n",
       "      <td>0</td>\n",
       "      <td>1</td>\n",
       "      <td>0</td>\n",
       "      <td>1.0</td>\n",
       "      <td>1</td>\n",
       "      <td>1.0</td>\n",
       "      <td>1</td>\n",
       "      <td>0.196364</td>\n",
       "      <td>0.189405</td>\n",
       "      <td>0.437273</td>\n",
       "      <td>0.248309</td>\n",
       "      <td>120</td>\n",
       "      <td>1229</td>\n",
       "      <td>1349</td>\n",
       "    </tr>\n",
       "    <tr>\n",
       "      <th>3</th>\n",
       "      <td>4</td>\n",
       "      <td>2011-01-04</td>\n",
       "      <td>1</td>\n",
       "      <td>0</td>\n",
       "      <td>1</td>\n",
       "      <td>0</td>\n",
       "      <td>2.0</td>\n",
       "      <td>1</td>\n",
       "      <td>1.0</td>\n",
       "      <td>1</td>\n",
       "      <td>0.200000</td>\n",
       "      <td>0.212122</td>\n",
       "      <td>0.590435</td>\n",
       "      <td>0.160296</td>\n",
       "      <td>108</td>\n",
       "      <td>1454</td>\n",
       "      <td>1562</td>\n",
       "    </tr>\n",
       "    <tr>\n",
       "      <th>4</th>\n",
       "      <td>5</td>\n",
       "      <td>2011-01-05</td>\n",
       "      <td>1</td>\n",
       "      <td>0</td>\n",
       "      <td>1</td>\n",
       "      <td>0</td>\n",
       "      <td>3.0</td>\n",
       "      <td>1</td>\n",
       "      <td>1.0</td>\n",
       "      <td>1</td>\n",
       "      <td>0.226957</td>\n",
       "      <td>0.229270</td>\n",
       "      <td>0.436957</td>\n",
       "      <td>0.186900</td>\n",
       "      <td>82</td>\n",
       "      <td>1518</td>\n",
       "      <td>1600</td>\n",
       "    </tr>\n",
       "  </tbody>\n",
       "</table>\n",
       "</div>"
      ],
      "text/plain": [
       "   instant     dteday  season  yr  mnth  holiday  weekday  workingday  \\\n",
       "0        1 2011-01-01       1   0     1        0      6.0           0   \n",
       "1        2 2011-01-02       1   0     1        0      0.0           0   \n",
       "2        3 2011-01-03       1   0     1        0      1.0           1   \n",
       "3        4 2011-01-04       1   0     1        0      2.0           1   \n",
       "4        5 2011-01-05       1   0     1        0      3.0           1   \n",
       "\n",
       "   schoolday  weathersit      temp     atemp       hum  windspeed  casual  \\\n",
       "0        0.0           2  0.344167  0.363625  0.805833   0.160446     331   \n",
       "1        0.0           2  0.363478  0.353739  0.696087   0.248539     131   \n",
       "2        1.0           1  0.196364  0.189405  0.437273   0.248309     120   \n",
       "3        1.0           1  0.200000  0.212122  0.590435   0.160296     108   \n",
       "4        1.0           1  0.226957  0.229270  0.436957   0.186900      82   \n",
       "\n",
       "   registered   cnt  \n",
       "0         654   985  \n",
       "1         670   801  \n",
       "2        1229  1349  \n",
       "3        1454  1562  \n",
       "4        1518  1600  "
      ]
     },
     "execution_count": 3,
     "metadata": {},
     "output_type": "execute_result"
    }
   ],
   "source": [
    "# Show top rows\n",
    "ds.head()"
   ]
  },
  {
   "cell_type": "code",
   "execution_count": 4,
   "metadata": {},
   "outputs": [
    {
     "data": {
      "text/plain": [
       "instant         0\n",
       "dteday          0\n",
       "season          0\n",
       "yr              0\n",
       "mnth            0\n",
       "holiday         0\n",
       "weekday         2\n",
       "workingday      0\n",
       "schoolday     278\n",
       "weathersit      0\n",
       "temp            0\n",
       "atemp           0\n",
       "hum             0\n",
       "windspeed       0\n",
       "casual          0\n",
       "registered      0\n",
       "cnt             0\n",
       "dtype: int64"
      ]
     },
     "execution_count": 4,
     "metadata": {},
     "output_type": "execute_result"
    }
   ],
   "source": [
    "#Exploratory data analysis\n",
    "#missing values\n",
    "ds.isnull().sum() #To check for missing values"
   ]
  },
  {
   "cell_type": "code",
   "execution_count": 5,
   "metadata": {},
   "outputs": [
    {
     "data": {
      "text/html": [
       "<div>\n",
       "<style scoped>\n",
       "    .dataframe tbody tr th:only-of-type {\n",
       "        vertical-align: middle;\n",
       "    }\n",
       "\n",
       "    .dataframe tbody tr th {\n",
       "        vertical-align: top;\n",
       "    }\n",
       "\n",
       "    .dataframe thead th {\n",
       "        text-align: right;\n",
       "    }\n",
       "</style>\n",
       "<table border=\"1\" class=\"dataframe\">\n",
       "  <thead>\n",
       "    <tr style=\"text-align: right;\">\n",
       "      <th></th>\n",
       "      <th>instant</th>\n",
       "      <th>dteday</th>\n",
       "      <th>season</th>\n",
       "      <th>yr</th>\n",
       "      <th>mnth</th>\n",
       "      <th>holiday</th>\n",
       "      <th>weekday</th>\n",
       "      <th>workingday</th>\n",
       "      <th>schoolday</th>\n",
       "      <th>weathersit</th>\n",
       "      <th>temp</th>\n",
       "      <th>atemp</th>\n",
       "      <th>hum</th>\n",
       "      <th>windspeed</th>\n",
       "      <th>casual</th>\n",
       "      <th>registered</th>\n",
       "      <th>cnt</th>\n",
       "    </tr>\n",
       "  </thead>\n",
       "  <tbody>\n",
       "    <tr>\n",
       "      <th>190</th>\n",
       "      <td>191</td>\n",
       "      <td>2011-07-10</td>\n",
       "      <td>3</td>\n",
       "      <td>0</td>\n",
       "      <td>7</td>\n",
       "      <td>0</td>\n",
       "      <td>NaN</td>\n",
       "      <td>0</td>\n",
       "      <td>0.0</td>\n",
       "      <td>1</td>\n",
       "      <td>0.747500</td>\n",
       "      <td>0.690025</td>\n",
       "      <td>0.578333</td>\n",
       "      <td>0.183471</td>\n",
       "      <td>1743</td>\n",
       "      <td>3138</td>\n",
       "      <td>4881</td>\n",
       "    </tr>\n",
       "    <tr>\n",
       "      <th>195</th>\n",
       "      <td>196</td>\n",
       "      <td>2011-07-15</td>\n",
       "      <td>3</td>\n",
       "      <td>0</td>\n",
       "      <td>7</td>\n",
       "      <td>0</td>\n",
       "      <td>NaN</td>\n",
       "      <td>1</td>\n",
       "      <td>1.0</td>\n",
       "      <td>1</td>\n",
       "      <td>0.663333</td>\n",
       "      <td>0.624371</td>\n",
       "      <td>0.591250</td>\n",
       "      <td>0.182833</td>\n",
       "      <td>1318</td>\n",
       "      <td>4220</td>\n",
       "      <td>5538</td>\n",
       "    </tr>\n",
       "  </tbody>\n",
       "</table>\n",
       "</div>"
      ],
      "text/plain": [
       "     instant     dteday  season  yr  mnth  holiday  weekday  workingday  \\\n",
       "190      191 2011-07-10       3   0     7        0      NaN           0   \n",
       "195      196 2011-07-15       3   0     7        0      NaN           1   \n",
       "\n",
       "     schoolday  weathersit      temp     atemp       hum  windspeed  casual  \\\n",
       "190        0.0           1  0.747500  0.690025  0.578333   0.183471    1743   \n",
       "195        1.0           1  0.663333  0.624371  0.591250   0.182833    1318   \n",
       "\n",
       "     registered   cnt  \n",
       "190        3138  4881  \n",
       "195        4220  5538  "
      ]
     },
     "execution_count": 5,
     "metadata": {},
     "output_type": "execute_result"
    }
   ],
   "source": [
    "#To show the missing values in weekday\n",
    "ds[ds['weekday'].isnull()]"
   ]
  },
  {
   "cell_type": "code",
   "execution_count": 6,
   "metadata": {},
   "outputs": [],
   "source": [
    "#filling the empty rows in weekday\n",
    "ds.at[190, 'weekday'] = 0\n",
    "ds.at[195, 'weekday'] = 5"
   ]
  },
  {
   "cell_type": "code",
   "execution_count": 7,
   "metadata": {},
   "outputs": [
    {
     "name": "stdout",
     "output_type": "stream",
     "text": [
      "374\n"
     ]
    }
   ],
   "source": [
    "#to check how many schoolday are also workdays in the data available\n",
    "same_value= (ds['workingday']!=ds['schoolday']).sum()\n",
    "print(same_value)"
   ]
  },
  {
   "cell_type": "code",
   "execution_count": 8,
   "metadata": {},
   "outputs": [
    {
     "data": {
      "text/html": [
       "<div>\n",
       "<style scoped>\n",
       "    .dataframe tbody tr th:only-of-type {\n",
       "        vertical-align: middle;\n",
       "    }\n",
       "\n",
       "    .dataframe tbody tr th {\n",
       "        vertical-align: top;\n",
       "    }\n",
       "\n",
       "    .dataframe thead th {\n",
       "        text-align: right;\n",
       "    }\n",
       "</style>\n",
       "<table border=\"1\" class=\"dataframe\">\n",
       "  <thead>\n",
       "    <tr style=\"text-align: right;\">\n",
       "      <th></th>\n",
       "      <th>instant</th>\n",
       "      <th>dteday</th>\n",
       "      <th>season</th>\n",
       "      <th>yr</th>\n",
       "      <th>mnth</th>\n",
       "      <th>holiday</th>\n",
       "      <th>weekday</th>\n",
       "      <th>workingday</th>\n",
       "      <th>schoolday</th>\n",
       "      <th>weathersit</th>\n",
       "      <th>temp</th>\n",
       "      <th>atemp</th>\n",
       "      <th>hum</th>\n",
       "      <th>windspeed</th>\n",
       "      <th>casual</th>\n",
       "      <th>registered</th>\n",
       "      <th>cnt</th>\n",
       "    </tr>\n",
       "  </thead>\n",
       "  <tbody>\n",
       "    <tr>\n",
       "      <th>624</th>\n",
       "      <td>624</td>\n",
       "      <td>2012-09-15</td>\n",
       "      <td>3</td>\n",
       "      <td>1</td>\n",
       "      <td>9</td>\n",
       "      <td>0</td>\n",
       "      <td>6.0</td>\n",
       "      <td>0</td>\n",
       "      <td>0.0</td>\n",
       "      <td>1</td>\n",
       "      <td>0.608333</td>\n",
       "      <td>0.585867</td>\n",
       "      <td>0.501667</td>\n",
       "      <td>0.247521</td>\n",
       "      <td>3160</td>\n",
       "      <td>5554</td>\n",
       "      <td>8714</td>\n",
       "    </tr>\n",
       "  </tbody>\n",
       "</table>\n",
       "</div>"
      ],
      "text/plain": [
       "     instant     dteday  season  yr  mnth  holiday  weekday  workingday  \\\n",
       "624      624 2012-09-15       3   1     9        0      6.0           0   \n",
       "\n",
       "     schoolday  weathersit      temp     atemp       hum  windspeed  casual  \\\n",
       "624        0.0           1  0.608333  0.585867  0.501667   0.247521    3160   \n",
       "\n",
       "     registered   cnt  \n",
       "624        5554  8714  "
      ]
     },
     "execution_count": 8,
     "metadata": {},
     "output_type": "execute_result"
    }
   ],
   "source": [
    "#check for duplicate rows\n",
    "duplicate_rows = ds[ds.duplicated()]\n",
    "duplicate_rows"
   ]
  },
  {
   "cell_type": "code",
   "execution_count": 9,
   "metadata": {},
   "outputs": [],
   "source": [
    "ds.drop_duplicates(inplace=True) #drop duplicates"
   ]
  },
  {
   "cell_type": "code",
   "execution_count": 10,
   "metadata": {},
   "outputs": [
    {
     "data": {
      "text/plain": [
       "jan    62\n",
       "mar    62\n",
       "may    62\n",
       "jul    62\n",
       "aug    62\n",
       "oct    62\n",
       "dec    62\n",
       "apr    60\n",
       "jun    60\n",
       "sep    60\n",
       "nov    60\n",
       "feb    57\n",
       "Name: mnth, dtype: int64"
      ]
     },
     "execution_count": 10,
     "metadata": {},
     "output_type": "execute_result"
    }
   ],
   "source": [
    "ds['mnth']= ds['mnth'].map({1:'jan', 2:'feb', 3:'mar', 4:'apr', 5:'may', 6:'jun', 7:'jul', 8:'aug', 9:'sep', 10:'oct', 11:'nov', 12:'dec'})\n",
    "ds.mnth.value_counts()"
   ]
  },
  {
   "cell_type": "code",
   "execution_count": 11,
   "metadata": {},
   "outputs": [
    {
     "data": {
      "text/plain": [
       "Fall      188\n",
       "Summer    184\n",
       "Spring    181\n",
       "Winter    178\n",
       "Name: season, dtype: int64"
      ]
     },
     "execution_count": 11,
     "metadata": {},
     "output_type": "execute_result"
    }
   ],
   "source": [
    "ds['season'] = ds['season'].map({1:'Spring', 2:'Summer', 3:'Fall', 4:'Winter'})\n",
    "ds.season.value_counts()"
   ]
  },
  {
   "cell_type": "code",
   "execution_count": 12,
   "metadata": {},
   "outputs": [
    {
     "data": {
      "text/plain": [
       "Sat     105\n",
       "Sun     105\n",
       "Mon     105\n",
       "Tue     104\n",
       "Wed     104\n",
       "Thur    104\n",
       "Fri     104\n",
       "Name: weekday, dtype: int64"
      ]
     },
     "execution_count": 12,
     "metadata": {},
     "output_type": "execute_result"
    }
   ],
   "source": [
    "ds['weekday'] = ds['weekday'].map({0:'Sun', 1:'Mon', 2:'Tue', 3:'Wed', 4:'Thur', 5:'Fri', 6:'Sat'})\n",
    "ds.weekday.value_counts()"
   ]
  },
  {
   "cell_type": "code",
   "execution_count": 13,
   "metadata": {},
   "outputs": [
    {
     "data": {
      "text/plain": [
       "Clear         463\n",
       "Mistcloudy    247\n",
       "LightSnow      21\n",
       "Name: weathersit, dtype: int64"
      ]
     },
     "execution_count": 13,
     "metadata": {},
     "output_type": "execute_result"
    }
   ],
   "source": [
    "ds['weathersit'] = ds['weathersit'].map({1:'Clear', 2:'Mistcloudy', 3:'LightSnow', 4:'Heavyrain'})\n",
    "ds.weathersit.value_counts()"
   ]
  },
  {
   "cell_type": "code",
   "execution_count": 14,
   "metadata": {},
   "outputs": [],
   "source": [
    "# Transform instant to a categorical\n",
    "ds['instant'] = ds['instant'].astype('category')"
   ]
  },
  {
   "cell_type": "markdown",
   "metadata": {},
   "source": [
    "WE DROP THE SCHOOLDAY COLUMN AS IT CONTAINS MANY MISSING VALUES"
   ]
  },
  {
   "cell_type": "code",
   "execution_count": 15,
   "metadata": {},
   "outputs": [
    {
     "data": {
      "text/html": [
       "<div>\n",
       "<style scoped>\n",
       "    .dataframe tbody tr th:only-of-type {\n",
       "        vertical-align: middle;\n",
       "    }\n",
       "\n",
       "    .dataframe tbody tr th {\n",
       "        vertical-align: top;\n",
       "    }\n",
       "\n",
       "    .dataframe thead th {\n",
       "        text-align: right;\n",
       "    }\n",
       "</style>\n",
       "<table border=\"1\" class=\"dataframe\">\n",
       "  <thead>\n",
       "    <tr style=\"text-align: right;\">\n",
       "      <th></th>\n",
       "      <th>instant</th>\n",
       "      <th>season</th>\n",
       "      <th>mnth</th>\n",
       "      <th>holiday</th>\n",
       "      <th>weekday</th>\n",
       "      <th>workingday</th>\n",
       "      <th>weathersit</th>\n",
       "      <th>atemp</th>\n",
       "      <th>hum</th>\n",
       "      <th>windspeed</th>\n",
       "      <th>cnt</th>\n",
       "    </tr>\n",
       "  </thead>\n",
       "  <tbody>\n",
       "    <tr>\n",
       "      <th>0</th>\n",
       "      <td>1</td>\n",
       "      <td>Spring</td>\n",
       "      <td>jan</td>\n",
       "      <td>0</td>\n",
       "      <td>Sat</td>\n",
       "      <td>0</td>\n",
       "      <td>Mistcloudy</td>\n",
       "      <td>0.363625</td>\n",
       "      <td>0.805833</td>\n",
       "      <td>0.160446</td>\n",
       "      <td>985</td>\n",
       "    </tr>\n",
       "    <tr>\n",
       "      <th>1</th>\n",
       "      <td>2</td>\n",
       "      <td>Spring</td>\n",
       "      <td>jan</td>\n",
       "      <td>0</td>\n",
       "      <td>Sun</td>\n",
       "      <td>0</td>\n",
       "      <td>Mistcloudy</td>\n",
       "      <td>0.353739</td>\n",
       "      <td>0.696087</td>\n",
       "      <td>0.248539</td>\n",
       "      <td>801</td>\n",
       "    </tr>\n",
       "    <tr>\n",
       "      <th>2</th>\n",
       "      <td>3</td>\n",
       "      <td>Spring</td>\n",
       "      <td>jan</td>\n",
       "      <td>0</td>\n",
       "      <td>Mon</td>\n",
       "      <td>1</td>\n",
       "      <td>Clear</td>\n",
       "      <td>0.189405</td>\n",
       "      <td>0.437273</td>\n",
       "      <td>0.248309</td>\n",
       "      <td>1349</td>\n",
       "    </tr>\n",
       "    <tr>\n",
       "      <th>3</th>\n",
       "      <td>4</td>\n",
       "      <td>Spring</td>\n",
       "      <td>jan</td>\n",
       "      <td>0</td>\n",
       "      <td>Tue</td>\n",
       "      <td>1</td>\n",
       "      <td>Clear</td>\n",
       "      <td>0.212122</td>\n",
       "      <td>0.590435</td>\n",
       "      <td>0.160296</td>\n",
       "      <td>1562</td>\n",
       "    </tr>\n",
       "    <tr>\n",
       "      <th>4</th>\n",
       "      <td>5</td>\n",
       "      <td>Spring</td>\n",
       "      <td>jan</td>\n",
       "      <td>0</td>\n",
       "      <td>Wed</td>\n",
       "      <td>1</td>\n",
       "      <td>Clear</td>\n",
       "      <td>0.229270</td>\n",
       "      <td>0.436957</td>\n",
       "      <td>0.186900</td>\n",
       "      <td>1600</td>\n",
       "    </tr>\n",
       "    <tr>\n",
       "      <th>...</th>\n",
       "      <td>...</td>\n",
       "      <td>...</td>\n",
       "      <td>...</td>\n",
       "      <td>...</td>\n",
       "      <td>...</td>\n",
       "      <td>...</td>\n",
       "      <td>...</td>\n",
       "      <td>...</td>\n",
       "      <td>...</td>\n",
       "      <td>...</td>\n",
       "      <td>...</td>\n",
       "    </tr>\n",
       "    <tr>\n",
       "      <th>727</th>\n",
       "      <td>727</td>\n",
       "      <td>Spring</td>\n",
       "      <td>dec</td>\n",
       "      <td>0</td>\n",
       "      <td>Thur</td>\n",
       "      <td>1</td>\n",
       "      <td>Mistcloudy</td>\n",
       "      <td>0.226642</td>\n",
       "      <td>0.652917</td>\n",
       "      <td>0.350133</td>\n",
       "      <td>2114</td>\n",
       "    </tr>\n",
       "    <tr>\n",
       "      <th>728</th>\n",
       "      <td>728</td>\n",
       "      <td>Spring</td>\n",
       "      <td>dec</td>\n",
       "      <td>0</td>\n",
       "      <td>Fri</td>\n",
       "      <td>1</td>\n",
       "      <td>Mistcloudy</td>\n",
       "      <td>0.255046</td>\n",
       "      <td>0.590000</td>\n",
       "      <td>0.155471</td>\n",
       "      <td>3095</td>\n",
       "    </tr>\n",
       "    <tr>\n",
       "      <th>729</th>\n",
       "      <td>729</td>\n",
       "      <td>Spring</td>\n",
       "      <td>dec</td>\n",
       "      <td>0</td>\n",
       "      <td>Sat</td>\n",
       "      <td>0</td>\n",
       "      <td>Mistcloudy</td>\n",
       "      <td>0.242400</td>\n",
       "      <td>0.752917</td>\n",
       "      <td>0.124383</td>\n",
       "      <td>1341</td>\n",
       "    </tr>\n",
       "    <tr>\n",
       "      <th>730</th>\n",
       "      <td>730</td>\n",
       "      <td>Spring</td>\n",
       "      <td>dec</td>\n",
       "      <td>0</td>\n",
       "      <td>Sun</td>\n",
       "      <td>0</td>\n",
       "      <td>Clear</td>\n",
       "      <td>0.231700</td>\n",
       "      <td>0.483333</td>\n",
       "      <td>0.350754</td>\n",
       "      <td>1796</td>\n",
       "    </tr>\n",
       "    <tr>\n",
       "      <th>731</th>\n",
       "      <td>731</td>\n",
       "      <td>Spring</td>\n",
       "      <td>dec</td>\n",
       "      <td>0</td>\n",
       "      <td>Mon</td>\n",
       "      <td>1</td>\n",
       "      <td>Mistcloudy</td>\n",
       "      <td>0.223487</td>\n",
       "      <td>0.577500</td>\n",
       "      <td>0.154846</td>\n",
       "      <td>2729</td>\n",
       "    </tr>\n",
       "  </tbody>\n",
       "</table>\n",
       "<p>731 rows × 11 columns</p>\n",
       "</div>"
      ],
      "text/plain": [
       "    instant  season mnth  holiday weekday  workingday  weathersit     atemp  \\\n",
       "0         1  Spring  jan        0     Sat           0  Mistcloudy  0.363625   \n",
       "1         2  Spring  jan        0     Sun           0  Mistcloudy  0.353739   \n",
       "2         3  Spring  jan        0     Mon           1       Clear  0.189405   \n",
       "3         4  Spring  jan        0     Tue           1       Clear  0.212122   \n",
       "4         5  Spring  jan        0     Wed           1       Clear  0.229270   \n",
       "..      ...     ...  ...      ...     ...         ...         ...       ...   \n",
       "727     727  Spring  dec        0    Thur           1  Mistcloudy  0.226642   \n",
       "728     728  Spring  dec        0     Fri           1  Mistcloudy  0.255046   \n",
       "729     729  Spring  dec        0     Sat           0  Mistcloudy  0.242400   \n",
       "730     730  Spring  dec        0     Sun           0       Clear  0.231700   \n",
       "731     731  Spring  dec        0     Mon           1  Mistcloudy  0.223487   \n",
       "\n",
       "          hum  windspeed   cnt  \n",
       "0    0.805833   0.160446   985  \n",
       "1    0.696087   0.248539   801  \n",
       "2    0.437273   0.248309  1349  \n",
       "3    0.590435   0.160296  1562  \n",
       "4    0.436957   0.186900  1600  \n",
       "..        ...        ...   ...  \n",
       "727  0.652917   0.350133  2114  \n",
       "728  0.590000   0.155471  3095  \n",
       "729  0.752917   0.124383  1341  \n",
       "730  0.483333   0.350754  1796  \n",
       "731  0.577500   0.154846  2729  \n",
       "\n",
       "[731 rows x 11 columns]"
      ]
     },
     "execution_count": 15,
     "metadata": {},
     "output_type": "execute_result"
    }
   ],
   "source": [
    "\n",
    "#Also we need to drop columns that would be redundant in building the decision tree\n",
    "cols1 = ['dteday', 'schoolday', 'temp', 'casual', 'registered', 'yr']\n",
    "ds.drop(columns=cols1, inplace=True)\n",
    "ds"
   ]
  },
  {
   "cell_type": "code",
   "execution_count": 16,
   "metadata": {},
   "outputs": [
    {
     "data": {
      "text/html": [
       "<div>\n",
       "<style scoped>\n",
       "    .dataframe tbody tr th:only-of-type {\n",
       "        vertical-align: middle;\n",
       "    }\n",
       "\n",
       "    .dataframe tbody tr th {\n",
       "        vertical-align: top;\n",
       "    }\n",
       "\n",
       "    .dataframe thead th {\n",
       "        text-align: right;\n",
       "    }\n",
       "</style>\n",
       "<table border=\"1\" class=\"dataframe\">\n",
       "  <thead>\n",
       "    <tr style=\"text-align: right;\">\n",
       "      <th>workingday</th>\n",
       "      <th>0</th>\n",
       "      <th>1</th>\n",
       "    </tr>\n",
       "    <tr>\n",
       "      <th>season</th>\n",
       "      <th></th>\n",
       "      <th></th>\n",
       "    </tr>\n",
       "  </thead>\n",
       "  <tbody>\n",
       "    <tr>\n",
       "      <th>Fall</th>\n",
       "      <td>57</td>\n",
       "      <td>131</td>\n",
       "    </tr>\n",
       "    <tr>\n",
       "      <th>Spring</th>\n",
       "      <td>61</td>\n",
       "      <td>120</td>\n",
       "    </tr>\n",
       "    <tr>\n",
       "      <th>Summer</th>\n",
       "      <td>56</td>\n",
       "      <td>128</td>\n",
       "    </tr>\n",
       "    <tr>\n",
       "      <th>Winter</th>\n",
       "      <td>57</td>\n",
       "      <td>121</td>\n",
       "    </tr>\n",
       "  </tbody>\n",
       "</table>\n",
       "</div>"
      ],
      "text/plain": [
       "workingday   0    1\n",
       "season             \n",
       "Fall        57  131\n",
       "Spring      61  120\n",
       "Summer      56  128\n",
       "Winter      57  121"
      ]
     },
     "execution_count": 16,
     "metadata": {},
     "output_type": "execute_result"
    }
   ],
   "source": [
    "# Exploration of categorical variables: cross table of season and workingday\n",
    "tb1 = pd.crosstab(index=ds['season'], columns=ds['workingday'])\n",
    "tb1"
   ]
  },
  {
   "cell_type": "code",
   "execution_count": 17,
   "metadata": {},
   "outputs": [
    {
     "data": {
      "text/html": [
       "<div>\n",
       "<style scoped>\n",
       "    .dataframe tbody tr th:only-of-type {\n",
       "        vertical-align: middle;\n",
       "    }\n",
       "\n",
       "    .dataframe tbody tr th {\n",
       "        vertical-align: top;\n",
       "    }\n",
       "\n",
       "    .dataframe thead th {\n",
       "        text-align: right;\n",
       "    }\n",
       "</style>\n",
       "<table border=\"1\" class=\"dataframe\">\n",
       "  <thead>\n",
       "    <tr style=\"text-align: right;\">\n",
       "      <th>holiday</th>\n",
       "      <th>0</th>\n",
       "      <th>1</th>\n",
       "    </tr>\n",
       "    <tr>\n",
       "      <th>weathersit</th>\n",
       "      <th></th>\n",
       "      <th></th>\n",
       "    </tr>\n",
       "  </thead>\n",
       "  <tbody>\n",
       "    <tr>\n",
       "      <th>Clear</th>\n",
       "      <td>448</td>\n",
       "      <td>15</td>\n",
       "    </tr>\n",
       "    <tr>\n",
       "      <th>LightSnow</th>\n",
       "      <td>21</td>\n",
       "      <td>0</td>\n",
       "    </tr>\n",
       "    <tr>\n",
       "      <th>Mistcloudy</th>\n",
       "      <td>241</td>\n",
       "      <td>6</td>\n",
       "    </tr>\n",
       "  </tbody>\n",
       "</table>\n",
       "</div>"
      ],
      "text/plain": [
       "holiday       0   1\n",
       "weathersit         \n",
       "Clear       448  15\n",
       "LightSnow    21   0\n",
       "Mistcloudy  241   6"
      ]
     },
     "execution_count": 17,
     "metadata": {},
     "output_type": "execute_result"
    }
   ],
   "source": [
    "# Exploration of categorical variables: cross table of weathersit and holiday\n",
    "tb2 = pd.crosstab(index=ds['weathersit'], columns=ds['holiday'])\n",
    "tb2"
   ]
  },
  {
   "cell_type": "code",
   "execution_count": 18,
   "metadata": {},
   "outputs": [
    {
     "data": {
      "text/plain": [
       "<Axes: xlabel='season'>"
      ]
     },
     "execution_count": 18,
     "metadata": {},
     "output_type": "execute_result"
    },
    {
     "data": {
      "image/png": "[encoded data removed]",
      "text/plain": [
       "<Figure size 600x700 with 1 Axes>"
      ]
     },
     "metadata": {},
     "output_type": "display_data"
    }
   ],
   "source": [
    "# Visual exploration of the cross table\n",
    "tb1.plot(kind=\"bar\", figsize=(6,7), stacked=True)"
   ]
  },
  {
   "cell_type": "code",
   "execution_count": 19,
   "metadata": {},
   "outputs": [
    {
     "data": {
      "text/plain": [
       "<Axes: xlabel='weathersit'>"
      ]
     },
     "execution_count": 19,
     "metadata": {},
     "output_type": "execute_result"
    },
    {
     "data": {
      "image/png": "[encoded data removed]",
      "text/plain": [
       "<Figure size 600x700 with 1 Axes>"
      ]
     },
     "metadata": {},
     "output_type": "display_data"
    }
   ],
   "source": [
    "# Visual exploration of the cross table\n",
    "tb2.plot(kind=\"bar\", figsize=(6,7), stacked=True)"
   ]
  },
  {
   "cell_type": "code",
   "execution_count": 20,
   "metadata": {},
   "outputs": [
    {
     "data": {
      "image/png": "[encoded data removed]",
      "text/plain": [
       "<Figure size 700x700 with 4 Axes>"
      ]
     },
     "metadata": {},
     "output_type": "display_data"
    }
   ],
   "source": [
    "# histograms on some variables\n",
    "variable= ['atemp', 'hum', 'windspeed', 'cnt']\n",
    "ds[variable].hist(bins=20, figsize=(7, 7), layout=(2, 2), xlabelsize=8, ylabelsize=8);"
   ]
  },
  {
   "cell_type": "code",
   "execution_count": 21,
   "metadata": {},
   "outputs": [
    {
     "data": {
      "image/png": "[encoded data removed]",
      "text/plain": [
       "<Figure size 1000x700 with 4 Axes>"
      ]
     },
     "metadata": {},
     "output_type": "display_data"
    }
   ],
   "source": [
    "# boxplots\n",
    "fig, ax = plt.subplots(2, 2, figsize=(10, 7))\n",
    "for var, subplot in zip(ds[variable], ax.flatten()):\n",
    "    sns.boxplot(x=ds[var], ax=subplot)"
   ]
  },
  {
   "cell_type": "code",
   "execution_count": 22,
   "metadata": {},
   "outputs": [
    {
     "data": {
      "image/png": "[encoded data removed]",
      "text/plain": [
       "<Figure size 800x800 with 2 Axes>"
      ]
     },
     "metadata": {},
     "output_type": "display_data"
    }
   ],
   "source": [
    "\n",
    "corr = ds[variable].corr()\n",
    "mask = np.zeros_like(corr, dtype=bool)\n",
    "mask[np.triu_indices_from(mask)]= True\n",
    "\n",
    "f, ax = plt.subplots(figsize=(8, 8))\n",
    "heatmap = sns.heatmap(corr,\n",
    "                      mask = mask,\n",
    "                      square = True,\n",
    "                      linewidths = .5,\n",
    "                      cmap = 'coolwarm',\n",
    "                      vmin = -1,\n",
    "                      vmax = 1,\n",
    "                      annot = True,\n",
    "                      annot_kws = {'size': 10})\n",
    "\n",
    "#add the column names as labels\n",
    "ax.set_yticklabels(corr.columns, rotation = 0)\n",
    "ax.set_xticklabels(corr.columns, rotation = 0)\n",
    "sns.set_style({'xtick.bottom': True}, {'ytick.left': True})"
   ]
  },
  {
   "cell_type": "code",
   "execution_count": 23,
   "metadata": {},
   "outputs": [
    {
     "name": "stdout",
     "output_type": "stream",
     "text": [
      "210\n"
     ]
    }
   ],
   "source": [
    "#to check if some holidays are also workdays in the data available\n",
    "same_valu= (ds['workingday']==ds['holiday']).sum()\n",
    "print(same_valu)"
   ]
  },
  {
   "cell_type": "markdown",
   "metadata": {},
   "source": [
    "# DATA PREPARATION"
   ]
  },
  {
   "cell_type": "code",
   "execution_count": 18,
   "metadata": {},
   "outputs": [],
   "source": [
    "\n",
    "# Create a modeling dataset from the original dataset\n",
    "X = ds.copy(deep=True)"
   ]
  },
  {
   "cell_type": "code",
   "execution_count": 19,
   "metadata": {},
   "outputs": [],
   "source": [
    "# Encode categorical values into dummy variables\n",
    "cols = ['season', 'weathersit']\n",
    "ce_one_hot = ce.OneHotEncoder(cols = cols, use_cat_names=True)\n",
    "X = ce_one_hot.fit_transform(X)"
   ]
  },
  {
   "cell_type": "code",
   "execution_count": 20,
   "metadata": {},
   "outputs": [
    {
     "data": {
      "text/html": [
       "<div>\n",
       "<style scoped>\n",
       "    .dataframe tbody tr th:only-of-type {\n",
       "        vertical-align: middle;\n",
       "    }\n",
       "\n",
       "    .dataframe tbody tr th {\n",
       "        vertical-align: top;\n",
       "    }\n",
       "\n",
       "    .dataframe thead th {\n",
       "        text-align: right;\n",
       "    }\n",
       "</style>\n",
       "<table border=\"1\" class=\"dataframe\">\n",
       "  <thead>\n",
       "    <tr style=\"text-align: right;\">\n",
       "      <th></th>\n",
       "      <th>instant</th>\n",
       "      <th>season_Spring</th>\n",
       "      <th>season_Summer</th>\n",
       "      <th>season_Fall</th>\n",
       "      <th>season_Winter</th>\n",
       "      <th>mnth</th>\n",
       "      <th>holiday</th>\n",
       "      <th>weekday</th>\n",
       "      <th>workingday</th>\n",
       "      <th>weathersit_Mistcloudy</th>\n",
       "      <th>weathersit_Clear</th>\n",
       "      <th>weathersit_LightSnow</th>\n",
       "      <th>atemp</th>\n",
       "      <th>hum</th>\n",
       "      <th>windspeed</th>\n",
       "      <th>cnt</th>\n",
       "    </tr>\n",
       "  </thead>\n",
       "  <tbody>\n",
       "    <tr>\n",
       "      <th>0</th>\n",
       "      <td>1</td>\n",
       "      <td>1</td>\n",
       "      <td>0</td>\n",
       "      <td>0</td>\n",
       "      <td>0</td>\n",
       "      <td>jan</td>\n",
       "      <td>0</td>\n",
       "      <td>Sat</td>\n",
       "      <td>0</td>\n",
       "      <td>1</td>\n",
       "      <td>0</td>\n",
       "      <td>0</td>\n",
       "      <td>0.363625</td>\n",
       "      <td>0.805833</td>\n",
       "      <td>0.160446</td>\n",
       "      <td>985</td>\n",
       "    </tr>\n",
       "    <tr>\n",
       "      <th>1</th>\n",
       "      <td>2</td>\n",
       "      <td>1</td>\n",
       "      <td>0</td>\n",
       "      <td>0</td>\n",
       "      <td>0</td>\n",
       "      <td>jan</td>\n",
       "      <td>0</td>\n",
       "      <td>Sun</td>\n",
       "      <td>0</td>\n",
       "      <td>1</td>\n",
       "      <td>0</td>\n",
       "      <td>0</td>\n",
       "      <td>0.353739</td>\n",
       "      <td>0.696087</td>\n",
       "      <td>0.248539</td>\n",
       "      <td>801</td>\n",
       "    </tr>\n",
       "    <tr>\n",
       "      <th>2</th>\n",
       "      <td>3</td>\n",
       "      <td>1</td>\n",
       "      <td>0</td>\n",
       "      <td>0</td>\n",
       "      <td>0</td>\n",
       "      <td>jan</td>\n",
       "      <td>0</td>\n",
       "      <td>Mon</td>\n",
       "      <td>1</td>\n",
       "      <td>0</td>\n",
       "      <td>1</td>\n",
       "      <td>0</td>\n",
       "      <td>0.189405</td>\n",
       "      <td>0.437273</td>\n",
       "      <td>0.248309</td>\n",
       "      <td>1349</td>\n",
       "    </tr>\n",
       "    <tr>\n",
       "      <th>3</th>\n",
       "      <td>4</td>\n",
       "      <td>1</td>\n",
       "      <td>0</td>\n",
       "      <td>0</td>\n",
       "      <td>0</td>\n",
       "      <td>jan</td>\n",
       "      <td>0</td>\n",
       "      <td>Tue</td>\n",
       "      <td>1</td>\n",
       "      <td>0</td>\n",
       "      <td>1</td>\n",
       "      <td>0</td>\n",
       "      <td>0.212122</td>\n",
       "      <td>0.590435</td>\n",
       "      <td>0.160296</td>\n",
       "      <td>1562</td>\n",
       "    </tr>\n",
       "    <tr>\n",
       "      <th>4</th>\n",
       "      <td>5</td>\n",
       "      <td>1</td>\n",
       "      <td>0</td>\n",
       "      <td>0</td>\n",
       "      <td>0</td>\n",
       "      <td>jan</td>\n",
       "      <td>0</td>\n",
       "      <td>Wed</td>\n",
       "      <td>1</td>\n",
       "      <td>0</td>\n",
       "      <td>1</td>\n",
       "      <td>0</td>\n",
       "      <td>0.229270</td>\n",
       "      <td>0.436957</td>\n",
       "      <td>0.186900</td>\n",
       "      <td>1600</td>\n",
       "    </tr>\n",
       "  </tbody>\n",
       "</table>\n",
       "</div>"
      ],
      "text/plain": [
       "  instant  season_Spring  season_Summer  season_Fall  season_Winter mnth  \\\n",
       "0       1              1              0            0              0  jan   \n",
       "1       2              1              0            0              0  jan   \n",
       "2       3              1              0            0              0  jan   \n",
       "3       4              1              0            0              0  jan   \n",
       "4       5              1              0            0              0  jan   \n",
       "\n",
       "   holiday weekday  workingday  weathersit_Mistcloudy  weathersit_Clear  \\\n",
       "0        0     Sat           0                      1                 0   \n",
       "1        0     Sun           0                      1                 0   \n",
       "2        0     Mon           1                      0                 1   \n",
       "3        0     Tue           1                      0                 1   \n",
       "4        0     Wed           1                      0                 1   \n",
       "\n",
       "   weathersit_LightSnow     atemp       hum  windspeed   cnt  \n",
       "0                     0  0.363625  0.805833   0.160446   985  \n",
       "1                     0  0.353739  0.696087   0.248539   801  \n",
       "2                     0  0.189405  0.437273   0.248309  1349  \n",
       "3                     0  0.212122  0.590435   0.160296  1562  \n",
       "4                     0  0.229270  0.436957   0.186900  1600  "
      ]
     },
     "execution_count": 20,
     "metadata": {},
     "output_type": "execute_result"
    }
   ],
   "source": [
    "X.head()"
   ]
  },
  {
   "cell_type": "code",
   "execution_count": 21,
   "metadata": {},
   "outputs": [],
   "source": [
    "#To remove outliers\n",
    "#The data appears to have only a few outliers observing the box plots\n",
    "X.drop(X[X.windspeed > 10].index, inplace=True) \n",
    "X.drop(X[X.hum < 0.2].index, inplace=True)"
   ]
  },
  {
   "cell_type": "code",
   "execution_count": 22,
   "metadata": {},
   "outputs": [
    {
     "data": {
      "text/plain": [
       "(728, 16)"
      ]
     },
     "execution_count": 22,
     "metadata": {},
     "output_type": "execute_result"
    }
   ],
   "source": [
    "X.shape"
   ]
  },
  {
   "cell_type": "code",
   "execution_count": 23,
   "metadata": {},
   "outputs": [],
   "source": [
    "#Feature Engineering\n",
    "#To create a weekend column\n",
    "X['weekend'] = X['weekday'].apply(lambda x: 1 if x == 'Sun' or x == 'Sat' else 0)\n",
    "\n",
    "#We need to create the target variable with is the next day cnt\n",
    "X['Next_day_cnt'] = X['cnt'].shift(-1)\n",
    "X = X.dropna(subset=['Next_day_cnt']) # To drop the last row with contains an empty next_day_cnt"
   ]
  },
  {
   "cell_type": "code",
   "execution_count": 24,
   "metadata": {},
   "outputs": [
    {
     "data": {
      "text/plain": [
       "(727, 18)"
      ]
     },
     "execution_count": 24,
     "metadata": {},
     "output_type": "execute_result"
    }
   ],
   "source": [
    "X.shape"
   ]
  },
  {
   "cell_type": "markdown",
   "metadata": {},
   "source": [
    "# MODELING"
   ]
  },
  {
   "cell_type": "code",
   "execution_count": 25,
   "metadata": {},
   "outputs": [],
   "source": [
    "\n",
    "# Create the target\n",
    "y = X['Next_day_cnt']"
   ]
  },
  {
   "cell_type": "code",
   "execution_count": 26,
   "metadata": {},
   "outputs": [],
   "source": [
    "# Drop not used columns\n",
    "cols = ['Next_day_cnt', 'instant', 'weekday', 'mnth']\n",
    "X = X.drop(columns=cols)"
   ]
  },
  {
   "cell_type": "code",
   "execution_count": 27,
   "metadata": {},
   "outputs": [],
   "source": [
    "# Normalize all columns\n",
    "# MinMax scaler returns an array, so the dataframe must be recreated\n",
    "X = pd.DataFrame(preprocessing.MinMaxScaler().fit_transform(X.values), columns=X.columns,index=X.index)"
   ]
  },
  {
   "cell_type": "code",
   "execution_count": 28,
   "metadata": {},
   "outputs": [
    {
     "data": {
      "text/html": [
       "<div>\n",
       "<style scoped>\n",
       "    .dataframe tbody tr th:only-of-type {\n",
       "        vertical-align: middle;\n",
       "    }\n",
       "\n",
       "    .dataframe tbody tr th {\n",
       "        vertical-align: top;\n",
       "    }\n",
       "\n",
       "    .dataframe thead th {\n",
       "        text-align: right;\n",
       "    }\n",
       "</style>\n",
       "<table border=\"1\" class=\"dataframe\">\n",
       "  <thead>\n",
       "    <tr style=\"text-align: right;\">\n",
       "      <th></th>\n",
       "      <th>count</th>\n",
       "      <th>mean</th>\n",
       "      <th>std</th>\n",
       "      <th>min</th>\n",
       "      <th>25%</th>\n",
       "      <th>50%</th>\n",
       "      <th>75%</th>\n",
       "      <th>max</th>\n",
       "    </tr>\n",
       "  </thead>\n",
       "  <tbody>\n",
       "    <tr>\n",
       "      <th>season_Spring</th>\n",
       "      <td>727.0</td>\n",
       "      <td>0.244842</td>\n",
       "      <td>0.430289</td>\n",
       "      <td>0.0</td>\n",
       "      <td>0.000000</td>\n",
       "      <td>0.000000</td>\n",
       "      <td>0.000000</td>\n",
       "      <td>1.0</td>\n",
       "    </tr>\n",
       "    <tr>\n",
       "      <th>season_Summer</th>\n",
       "      <td>727.0</td>\n",
       "      <td>0.251719</td>\n",
       "      <td>0.434300</td>\n",
       "      <td>0.0</td>\n",
       "      <td>0.000000</td>\n",
       "      <td>0.000000</td>\n",
       "      <td>1.000000</td>\n",
       "      <td>1.0</td>\n",
       "    </tr>\n",
       "    <tr>\n",
       "      <th>season_Fall</th>\n",
       "      <td>727.0</td>\n",
       "      <td>0.258597</td>\n",
       "      <td>0.438165</td>\n",
       "      <td>0.0</td>\n",
       "      <td>0.000000</td>\n",
       "      <td>0.000000</td>\n",
       "      <td>1.000000</td>\n",
       "      <td>1.0</td>\n",
       "    </tr>\n",
       "    <tr>\n",
       "      <th>season_Winter</th>\n",
       "      <td>727.0</td>\n",
       "      <td>0.244842</td>\n",
       "      <td>0.430289</td>\n",
       "      <td>0.0</td>\n",
       "      <td>0.000000</td>\n",
       "      <td>0.000000</td>\n",
       "      <td>0.000000</td>\n",
       "      <td>1.0</td>\n",
       "    </tr>\n",
       "    <tr>\n",
       "      <th>holiday</th>\n",
       "      <td>727.0</td>\n",
       "      <td>0.028886</td>\n",
       "      <td>0.167601</td>\n",
       "      <td>0.0</td>\n",
       "      <td>0.000000</td>\n",
       "      <td>0.000000</td>\n",
       "      <td>0.000000</td>\n",
       "      <td>1.0</td>\n",
       "    </tr>\n",
       "    <tr>\n",
       "      <th>workingday</th>\n",
       "      <td>727.0</td>\n",
       "      <td>0.683631</td>\n",
       "      <td>0.465379</td>\n",
       "      <td>0.0</td>\n",
       "      <td>0.000000</td>\n",
       "      <td>1.000000</td>\n",
       "      <td>1.000000</td>\n",
       "      <td>1.0</td>\n",
       "    </tr>\n",
       "    <tr>\n",
       "      <th>weathersit_Mistcloudy</th>\n",
       "      <td>727.0</td>\n",
       "      <td>0.338377</td>\n",
       "      <td>0.473483</td>\n",
       "      <td>0.0</td>\n",
       "      <td>0.000000</td>\n",
       "      <td>0.000000</td>\n",
       "      <td>1.000000</td>\n",
       "      <td>1.0</td>\n",
       "    </tr>\n",
       "    <tr>\n",
       "      <th>weathersit_Clear</th>\n",
       "      <td>727.0</td>\n",
       "      <td>0.634113</td>\n",
       "      <td>0.482010</td>\n",
       "      <td>0.0</td>\n",
       "      <td>0.000000</td>\n",
       "      <td>1.000000</td>\n",
       "      <td>1.000000</td>\n",
       "      <td>1.0</td>\n",
       "    </tr>\n",
       "    <tr>\n",
       "      <th>weathersit_LightSnow</th>\n",
       "      <td>727.0</td>\n",
       "      <td>0.027510</td>\n",
       "      <td>0.163678</td>\n",
       "      <td>0.0</td>\n",
       "      <td>0.000000</td>\n",
       "      <td>0.000000</td>\n",
       "      <td>0.000000</td>\n",
       "      <td>1.0</td>\n",
       "    </tr>\n",
       "    <tr>\n",
       "      <th>atemp</th>\n",
       "      <td>727.0</td>\n",
       "      <td>0.519503</td>\n",
       "      <td>0.214040</td>\n",
       "      <td>0.0</td>\n",
       "      <td>0.339674</td>\n",
       "      <td>0.536771</td>\n",
       "      <td>0.696732</td>\n",
       "      <td>1.0</td>\n",
       "    </tr>\n",
       "    <tr>\n",
       "      <th>hum</th>\n",
       "      <td>727.0</td>\n",
       "      <td>0.522797</td>\n",
       "      <td>0.194524</td>\n",
       "      <td>0.0</td>\n",
       "      <td>0.373259</td>\n",
       "      <td>0.522042</td>\n",
       "      <td>0.663573</td>\n",
       "      <td>1.0</td>\n",
       "    </tr>\n",
       "    <tr>\n",
       "      <th>windspeed</th>\n",
       "      <td>727.0</td>\n",
       "      <td>0.399219</td>\n",
       "      <td>0.182294</td>\n",
       "      <td>0.0</td>\n",
       "      <td>0.267801</td>\n",
       "      <td>0.378307</td>\n",
       "      <td>0.502647</td>\n",
       "      <td>1.0</td>\n",
       "    </tr>\n",
       "    <tr>\n",
       "      <th>cnt</th>\n",
       "      <td>727.0</td>\n",
       "      <td>0.517256</td>\n",
       "      <td>0.222320</td>\n",
       "      <td>0.0</td>\n",
       "      <td>0.365509</td>\n",
       "      <td>0.521284</td>\n",
       "      <td>0.685573</td>\n",
       "      <td>1.0</td>\n",
       "    </tr>\n",
       "    <tr>\n",
       "      <th>weekend</th>\n",
       "      <td>727.0</td>\n",
       "      <td>0.287483</td>\n",
       "      <td>0.452900</td>\n",
       "      <td>0.0</td>\n",
       "      <td>0.000000</td>\n",
       "      <td>0.000000</td>\n",
       "      <td>1.000000</td>\n",
       "      <td>1.0</td>\n",
       "    </tr>\n",
       "  </tbody>\n",
       "</table>\n",
       "</div>"
      ],
      "text/plain": [
       "                       count      mean       std  min       25%       50%  \\\n",
       "season_Spring          727.0  0.244842  0.430289  0.0  0.000000  0.000000   \n",
       "season_Summer          727.0  0.251719  0.434300  0.0  0.000000  0.000000   \n",
       "season_Fall            727.0  0.258597  0.438165  0.0  0.000000  0.000000   \n",
       "season_Winter          727.0  0.244842  0.430289  0.0  0.000000  0.000000   \n",
       "holiday                727.0  0.028886  0.167601  0.0  0.000000  0.000000   \n",
       "workingday             727.0  0.683631  0.465379  0.0  0.000000  1.000000   \n",
       "weathersit_Mistcloudy  727.0  0.338377  0.473483  0.0  0.000000  0.000000   \n",
       "weathersit_Clear       727.0  0.634113  0.482010  0.0  0.000000  1.000000   \n",
       "weathersit_LightSnow   727.0  0.027510  0.163678  0.0  0.000000  0.000000   \n",
       "atemp                  727.0  0.519503  0.214040  0.0  0.339674  0.536771   \n",
       "hum                    727.0  0.522797  0.194524  0.0  0.373259  0.522042   \n",
       "windspeed              727.0  0.399219  0.182294  0.0  0.267801  0.378307   \n",
       "cnt                    727.0  0.517256  0.222320  0.0  0.365509  0.521284   \n",
       "weekend                727.0  0.287483  0.452900  0.0  0.000000  0.000000   \n",
       "\n",
       "                            75%  max  \n",
       "season_Spring          0.000000  1.0  \n",
       "season_Summer          1.000000  1.0  \n",
       "season_Fall            1.000000  1.0  \n",
       "season_Winter          0.000000  1.0  \n",
       "holiday                0.000000  1.0  \n",
       "workingday             1.000000  1.0  \n",
       "weathersit_Mistcloudy  1.000000  1.0  \n",
       "weathersit_Clear       1.000000  1.0  \n",
       "weathersit_LightSnow   0.000000  1.0  \n",
       "atemp                  0.696732  1.0  \n",
       "hum                    0.663573  1.0  \n",
       "windspeed              0.502647  1.0  \n",
       "cnt                    0.685573  1.0  \n",
       "weekend                1.000000  1.0  "
      ]
     },
     "execution_count": 28,
     "metadata": {},
     "output_type": "execute_result"
    }
   ],
   "source": [
    "# Summary statistics for all variables after data preparation - Transpose\n",
    "X.describe(include='all').T"
   ]
  },
  {
   "cell_type": "code",
   "execution_count": 30,
   "metadata": {},
   "outputs": [],
   "source": [
    "\n",
    "# Split the dataset intro train and test\n",
    "X_train, X_test, y_train, y_test = train_test_split(X, y, train_size = 0.75, test_size = 0.25, random_state = 2021)"
   ]
  },
  {
   "cell_type": "code",
   "execution_count": 31,
   "metadata": {},
   "outputs": [],
   "source": [
    "# Initialize model\n",
    "lr_regr = linear_model.LinearRegression()"
   ]
  },
  {
   "cell_type": "code",
   "execution_count": 32,
   "metadata": {},
   "outputs": [
    {
     "data": {
      "image/png": "[encoded data removed]",
      "text/plain": [
       "<Figure size 800x550 with 1 Axes>"
      ]
     },
     "metadata": {},
     "output_type": "display_data"
    },
    {
     "data": {
      "text/plain": [
       "<Axes: title={'center': 'RFECV for LinearRegression'}, xlabel='Number of Features Selected', ylabel='Score'>"
      ]
     },
     "execution_count": 32,
     "metadata": {},
     "output_type": "execute_result"
    }
   ],
   "source": [
    "#RFECV (Recursive Feature Elimination) to select features\n",
    "vis = RFECV(lr_regr, cv=5, scoring='r2')\n",
    "vis.fit(X_train, y_train)\n",
    "vis.show()"
   ]
  },
  {
   "cell_type": "code",
   "execution_count": 33,
   "metadata": {},
   "outputs": [
    {
     "data": {
      "text/plain": [
       "Index(['season_Spring', 'season_Summer', 'season_Fall', 'season_Winter',\n",
       "       'holiday', 'workingday', 'weathersit_Mistcloudy', 'weathersit_Clear',\n",
       "       'weathersit_LightSnow', 'atemp', 'hum', 'cnt', 'weekend'],\n",
       "      dtype='object')"
      ]
     },
     "execution_count": 33,
     "metadata": {},
     "output_type": "execute_result"
    }
   ],
   "source": [
    "# Features to include (all in this case)\n",
    "X.columns[vis.support_]"
   ]
  },
  {
   "cell_type": "code",
   "execution_count": 34,
   "metadata": {},
   "outputs": [
    {
     "data": {
      "image/png": "[encoded data removed]",
      "text/plain": [
       "<Figure size 800x550 with 1 Axes>"
      ]
     },
     "metadata": {},
     "output_type": "display_data"
    },
    {
     "data": {
      "text/plain": [
       "<Axes: title={'center': 'Learning Curve for LinearRegression'}, xlabel='Training Instances', ylabel='Score'>"
      ]
     },
     "execution_count": 34,
     "metadata": {},
     "output_type": "execute_result"
    }
   ],
   "source": [
    "# Plot the learning curve\n",
    "# Plot the learning curve\n",
    "cv = 10\n",
    "sizes = np.linspace(0.1, 1.0, 5)\n",
    "visualizer = LearningCurve(estimator=lr_regr, cv=cv, scoring='r2', train_sizes=sizes, n_jobs=4, random_state=123)\n",
    "visualizer.fit(X, y)\n",
    "visualizer.show() "
   ]
  },
  {
   "cell_type": "code",
   "execution_count": 35,
   "metadata": {},
   "outputs": [
    {
     "data": {
      "text/html": [
       "<style>#sk-container-id-1 {color: black;}#sk-container-id-1 pre{padding: 0;}#sk-container-id-1 div.sk-toggleable {background-color: white;}#sk-container-id-1 label.sk-toggleable__label {cursor: pointer;display: block;width: 100%;margin-bottom: 0;padding: 0.3em;box-sizing: border-box;text-align: center;}#sk-container-id-1 label.sk-toggleable__label-arrow:before {content: \"▸\";float: left;margin-right: 0.25em;color: #696969;}#sk-container-id-1 label.sk-toggleable__label-arrow:hover:before {color: black;}#sk-container-id-1 div.sk-estimator:hover label.sk-toggleable__label-arrow:before {color: black;}#sk-container-id-1 div.sk-toggleable__content {max-height: 0;max-width: 0;overflow: hidden;text-align: left;background-color: #f0f8ff;}#sk-container-id-1 div.sk-toggleable__content pre {margin: 0.2em;color: black;border-radius: 0.25em;background-color: #f0f8ff;}#sk-container-id-1 input.sk-toggleable__control:checked~div.sk-toggleable__content {max-height: 200px;max-width: 100%;overflow: auto;}#sk-container-id-1 input.sk-toggleable__control:checked~label.sk-toggleable__label-arrow:before {content: \"▾\";}#sk-container-id-1 div.sk-estimator input.sk-toggleable__control:checked~label.sk-toggleable__label {background-color: #d4ebff;}#sk-container-id-1 div.sk-label input.sk-toggleable__control:checked~label.sk-toggleable__label {background-color: #d4ebff;}#sk-container-id-1 input.sk-hidden--visually {border: 0;clip: rect(1px 1px 1px 1px);clip: rect(1px, 1px, 1px, 1px);height: 1px;margin: -1px;overflow: hidden;padding: 0;position: absolute;width: 1px;}#sk-container-id-1 div.sk-estimator {font-family: monospace;background-color: #f0f8ff;border: 1px dotted black;border-radius: 0.25em;box-sizing: border-box;margin-bottom: 0.5em;}#sk-container-id-1 div.sk-estimator:hover {background-color: #d4ebff;}#sk-container-id-1 div.sk-parallel-item::after {content: \"\";width: 100%;border-bottom: 1px solid gray;flex-grow: 1;}#sk-container-id-1 div.sk-label:hover label.sk-toggleable__label {background-color: #d4ebff;}#sk-container-id-1 div.sk-serial::before {content: \"\";position: absolute;border-left: 1px solid gray;box-sizing: border-box;top: 0;bottom: 0;left: 50%;z-index: 0;}#sk-container-id-1 div.sk-serial {display: flex;flex-direction: column;align-items: center;background-color: white;padding-right: 0.2em;padding-left: 0.2em;position: relative;}#sk-container-id-1 div.sk-item {position: relative;z-index: 1;}#sk-container-id-1 div.sk-parallel {display: flex;align-items: stretch;justify-content: center;background-color: white;position: relative;}#sk-container-id-1 div.sk-item::before, #sk-container-id-1 div.sk-parallel-item::before {content: \"\";position: absolute;border-left: 1px solid gray;box-sizing: border-box;top: 0;bottom: 0;left: 50%;z-index: -1;}#sk-container-id-1 div.sk-parallel-item {display: flex;flex-direction: column;z-index: 1;position: relative;background-color: white;}#sk-container-id-1 div.sk-parallel-item:first-child::after {align-self: flex-end;width: 50%;}#sk-container-id-1 div.sk-parallel-item:last-child::after {align-self: flex-start;width: 50%;}#sk-container-id-1 div.sk-parallel-item:only-child::after {width: 0;}#sk-container-id-1 div.sk-dashed-wrapped {border: 1px dashed gray;margin: 0 0.4em 0.5em 0.4em;box-sizing: border-box;padding-bottom: 0.4em;background-color: white;}#sk-container-id-1 div.sk-label label {font-family: monospace;font-weight: bold;display: inline-block;line-height: 1.2em;}#sk-container-id-1 div.sk-label-container {text-align: center;}#sk-container-id-1 div.sk-container {/* jupyter's `normalize.less` sets `[hidden] { display: none; }` but bootstrap.min.css set `[hidden] { display: none !important; }` so we also need the `!important` here to be able to override the default hidden behavior on the sphinx rendered scikit-learn.org. See: https://github.com/scikit-learn/scikit-learn/issues/21755 */display: inline-block !important;position: relative;}#sk-container-id-1 div.sk-text-repr-fallback {display: none;}</style><div id=\"sk-container-id-1\" class=\"sk-top-container\"><div class=\"sk-text-repr-fallback\"><pre>LinearRegression()</pre><b>In a Jupyter environment, please rerun this cell to show the HTML representation or trust the notebook. <br />On GitHub, the HTML representation is unable to render, please try loading this page with nbviewer.org.</b></div><div class=\"sk-container\" hidden><div class=\"sk-item\"><div class=\"sk-estimator sk-toggleable\"><input class=\"sk-toggleable__control sk-hidden--visually\" id=\"sk-estimator-id-1\" type=\"checkbox\" checked><label for=\"sk-estimator-id-1\" class=\"sk-toggleable__label sk-toggleable__label-arrow\">LinearRegression</label><div class=\"sk-toggleable__content\"><pre>LinearRegression()</pre></div></div></div></div></div>"
      ],
      "text/plain": [
       "LinearRegression()"
      ]
     },
     "execution_count": 35,
     "metadata": {},
     "output_type": "execute_result"
    }
   ],
   "source": [
    "\n",
    "# Create and train the model\n",
    "lr_regr.fit(X_train, y_train)"
   ]
  },
  {
   "cell_type": "code",
   "execution_count": 36,
   "metadata": {},
   "outputs": [
    {
     "name": "stdout",
     "output_type": "stream",
     "text": [
      "Intercept: -2.414862385900673e+16 \n",
      "\n"
     ]
    },
    {
     "data": {
      "text/html": [
       "<div>\n",
       "<style scoped>\n",
       "    .dataframe tbody tr th:only-of-type {\n",
       "        vertical-align: middle;\n",
       "    }\n",
       "\n",
       "    .dataframe tbody tr th {\n",
       "        vertical-align: top;\n",
       "    }\n",
       "\n",
       "    .dataframe thead th {\n",
       "        text-align: right;\n",
       "    }\n",
       "</style>\n",
       "<table border=\"1\" class=\"dataframe\">\n",
       "  <thead>\n",
       "    <tr style=\"text-align: right;\">\n",
       "      <th></th>\n",
       "      <th>Feature</th>\n",
       "      <th>Coefficient</th>\n",
       "      <th>AbsCoefficient</th>\n",
       "    </tr>\n",
       "  </thead>\n",
       "  <tbody>\n",
       "    <tr>\n",
       "      <th>2</th>\n",
       "      <td>season_Fall</td>\n",
       "      <td>16289938713646118.000000</td>\n",
       "      <td>1.628994e+16</td>\n",
       "    </tr>\n",
       "    <tr>\n",
       "      <th>1</th>\n",
       "      <td>season_Summer</td>\n",
       "      <td>16289938713645842.000000</td>\n",
       "      <td>1.628994e+16</td>\n",
       "    </tr>\n",
       "    <tr>\n",
       "      <th>3</th>\n",
       "      <td>season_Winter</td>\n",
       "      <td>16289938713645672.000000</td>\n",
       "      <td>1.628994e+16</td>\n",
       "    </tr>\n",
       "    <tr>\n",
       "      <th>0</th>\n",
       "      <td>season_Spring</td>\n",
       "      <td>16289938713645400.000000</td>\n",
       "      <td>1.628994e+16</td>\n",
       "    </tr>\n",
       "    <tr>\n",
       "      <th>5</th>\n",
       "      <td>workingday</td>\n",
       "      <td>7456617643174569.000000</td>\n",
       "      <td>7.456618e+15</td>\n",
       "    </tr>\n",
       "    <tr>\n",
       "      <th>4</th>\n",
       "      <td>holiday</td>\n",
       "      <td>7456617643174370.000000</td>\n",
       "      <td>7.456618e+15</td>\n",
       "    </tr>\n",
       "    <tr>\n",
       "      <th>13</th>\n",
       "      <td>weekend</td>\n",
       "      <td>7456617643174325.000000</td>\n",
       "      <td>7.456618e+15</td>\n",
       "    </tr>\n",
       "    <tr>\n",
       "      <th>8</th>\n",
       "      <td>weathersit_LightSnow</td>\n",
       "      <td>402067502187359.500000</td>\n",
       "      <td>4.020675e+14</td>\n",
       "    </tr>\n",
       "    <tr>\n",
       "      <th>6</th>\n",
       "      <td>weathersit_Mistcloudy</td>\n",
       "      <td>402067502187252.000000</td>\n",
       "      <td>4.020675e+14</td>\n",
       "    </tr>\n",
       "    <tr>\n",
       "      <th>7</th>\n",
       "      <td>weathersit_Clear</td>\n",
       "      <td>402067502187180.500000</td>\n",
       "      <td>4.020675e+14</td>\n",
       "    </tr>\n",
       "    <tr>\n",
       "      <th>12</th>\n",
       "      <td>cnt</td>\n",
       "      <td>7099.780346</td>\n",
       "      <td>7.099780e+03</td>\n",
       "    </tr>\n",
       "    <tr>\n",
       "      <th>10</th>\n",
       "      <td>hum</td>\n",
       "      <td>829.689640</td>\n",
       "      <td>8.296896e+02</td>\n",
       "    </tr>\n",
       "    <tr>\n",
       "      <th>9</th>\n",
       "      <td>atemp</td>\n",
       "      <td>-631.942799</td>\n",
       "      <td>6.319428e+02</td>\n",
       "    </tr>\n",
       "    <tr>\n",
       "      <th>11</th>\n",
       "      <td>windspeed</td>\n",
       "      <td>17.386199</td>\n",
       "      <td>1.738620e+01</td>\n",
       "    </tr>\n",
       "  </tbody>\n",
       "</table>\n",
       "</div>"
      ],
      "text/plain": [
       "                  Feature               Coefficient  AbsCoefficient\n",
       "2             season_Fall  16289938713646118.000000    1.628994e+16\n",
       "1           season_Summer  16289938713645842.000000    1.628994e+16\n",
       "3           season_Winter  16289938713645672.000000    1.628994e+16\n",
       "0           season_Spring  16289938713645400.000000    1.628994e+16\n",
       "5              workingday   7456617643174569.000000    7.456618e+15\n",
       "4                 holiday   7456617643174370.000000    7.456618e+15\n",
       "13                weekend   7456617643174325.000000    7.456618e+15\n",
       "8    weathersit_LightSnow    402067502187359.500000    4.020675e+14\n",
       "6   weathersit_Mistcloudy    402067502187252.000000    4.020675e+14\n",
       "7        weathersit_Clear    402067502187180.500000    4.020675e+14\n",
       "12                    cnt               7099.780346    7.099780e+03\n",
       "10                    hum                829.689640    8.296896e+02\n",
       "9                   atemp               -631.942799    6.319428e+02\n",
       "11              windspeed                 17.386199    1.738620e+01"
      ]
     },
     "execution_count": 36,
     "metadata": {},
     "output_type": "execute_result"
    }
   ],
   "source": [
    "# Print the Intercept\n",
    "print('Intercept:',lr_regr.intercept_, '\\n')\n",
    "\n",
    "# Print Coefficients by descending \"importance\"\n",
    "formattedList = [format(float(i),'.6f') for i in lr_regr.coef_]\n",
    "formattedList2 = [format(abs(float(i)),'.6f') for i in lr_regr.coef_]\n",
    "data_tuples = list(zip(X.columns,formattedList,formattedList2))\n",
    "coeff_df = pd.DataFrame(data=data_tuples, columns=['Feature','Coefficient','AbsCoefficient'])\n",
    "coeff_df['AbsCoefficient']=coeff_df['AbsCoefficient'].astype(float)\n",
    "coeff_df.sort_values('AbsCoefficient', axis=0, inplace=True, ascending=False)\n",
    "coeff_df"
   ]
  },
  {
   "cell_type": "markdown",
   "metadata": {},
   "source": [
    "# EVALUATION"
   ]
  },
  {
   "cell_type": "code",
   "execution_count": 37,
   "metadata": {},
   "outputs": [],
   "source": [
    "# predict y for X_train and X_test\n",
    "y_pred_train = lr_regr.predict(X_train) \n",
    "y_pred_test = lr_regr.predict(X_test) "
   ]
  },
  {
   "cell_type": "code",
   "execution_count": 38,
   "metadata": {},
   "outputs": [],
   "source": [
    "# Function to create dataframe with metrics\n",
    "def performanceMetricsDF(metricsObj, yTrain, yPredTrain, yTest, yPredTest):\n",
    "  measures_list = ['MAE','RMSE', 'R^2','MAPE (%)','MAX Error']\n",
    "  train_results = [metricsObj.mean_absolute_error(yTrain, yPredTrain),\n",
    "                np.sqrt(metricsObj.mean_squared_error(yTrain, yPredTrain)),\n",
    "                metricsObj.r2_score(yTrain, yPredTrain),\n",
    "                metricsObj.mean_absolute_percentage_error(yTrain, yPredTrain),\n",
    "                metricsObj.max_error(yTrain, yPredTrain)]\n",
    "  test_results = [metricsObj.mean_absolute_error(yTest, yPredTest),\n",
    "                np.sqrt(metricsObj.mean_squared_error(yTest, yPredTest)),\n",
    "                metricsObj.r2_score(yTest, yPredTest),\n",
    "                  metricsObj.mean_absolute_percentage_error(yTest, yPredTest),\n",
    "                metricsObj.max_error(yTest, yPredTest)]\n",
    "  resultsDF = pd.DataFrame({'Measure': measures_list, 'Train': train_results, 'Test':test_results})\n",
    "  return(resultsDF)"
   ]
  },
  {
   "cell_type": "code",
   "execution_count": 39,
   "metadata": {},
   "outputs": [
    {
     "data": {
      "text/html": [
       "<div>\n",
       "<style scoped>\n",
       "    .dataframe tbody tr th:only-of-type {\n",
       "        vertical-align: middle;\n",
       "    }\n",
       "\n",
       "    .dataframe tbody tr th {\n",
       "        vertical-align: top;\n",
       "    }\n",
       "\n",
       "    .dataframe thead th {\n",
       "        text-align: right;\n",
       "    }\n",
       "</style>\n",
       "<table border=\"1\" class=\"dataframe\">\n",
       "  <thead>\n",
       "    <tr style=\"text-align: right;\">\n",
       "      <th></th>\n",
       "      <th>Measure</th>\n",
       "      <th>Train</th>\n",
       "      <th>Test</th>\n",
       "    </tr>\n",
       "  </thead>\n",
       "  <tbody>\n",
       "    <tr>\n",
       "      <th>0</th>\n",
       "      <td>MAE</td>\n",
       "      <td>706.433028</td>\n",
       "      <td>661.467033</td>\n",
       "    </tr>\n",
       "    <tr>\n",
       "      <th>1</th>\n",
       "      <td>RMSE</td>\n",
       "      <td>1001.572245</td>\n",
       "      <td>926.755960</td>\n",
       "    </tr>\n",
       "    <tr>\n",
       "      <th>2</th>\n",
       "      <td>R^2</td>\n",
       "      <td>0.728713</td>\n",
       "      <td>0.770033</td>\n",
       "    </tr>\n",
       "    <tr>\n",
       "      <th>3</th>\n",
       "      <td>MAPE (%)</td>\n",
       "      <td>0.590994</td>\n",
       "      <td>0.227427</td>\n",
       "    </tr>\n",
       "    <tr>\n",
       "      <th>4</th>\n",
       "      <td>MAX Error</td>\n",
       "      <td>5105.000000</td>\n",
       "      <td>3684.000000</td>\n",
       "    </tr>\n",
       "  </tbody>\n",
       "</table>\n",
       "</div>"
      ],
      "text/plain": [
       "     Measure        Train         Test\n",
       "0        MAE   706.433028   661.467033\n",
       "1       RMSE  1001.572245   926.755960\n",
       "2        R^2     0.728713     0.770033\n",
       "3   MAPE (%)     0.590994     0.227427\n",
       "4  MAX Error  5105.000000  3684.000000"
      ]
     },
     "execution_count": 39,
     "metadata": {},
     "output_type": "execute_result"
    }
   ],
   "source": [
    "# Show performance results\n",
    "resultsDF = performanceMetricsDF(metrics, y_train, y_pred_train, y_test, y_pred_test)\n",
    "resultsDF"
   ]
  },
  {
   "cell_type": "code",
   "execution_count": 40,
   "metadata": {},
   "outputs": [
    {
     "name": "stderr",
     "output_type": "stream",
     "text": [
      "C:\\Users\\nwach\\anaconda3\\Lib\\site-packages\\sklearn\\base.py:464: UserWarning: X does not have valid feature names, but LinearRegression was fitted with feature names\n",
      "  warnings.warn(\n"
     ]
    },
    {
     "data": {
      "image/png": "[encoded data removed]",
      "text/plain": [
       "<Figure size 800x550 with 2 Axes>"
      ]
     },
     "metadata": {},
     "output_type": "display_data"
    },
    {
     "data": {
      "text/plain": [
       "<Axes: title={'center': 'Residuals for LinearRegression Model'}, xlabel='Predicted Value', ylabel='Residuals'>"
      ]
     },
     "execution_count": 40,
     "metadata": {},
     "output_type": "execute_result"
    }
   ],
   "source": [
    "# Visualize the residuals\n",
    "residuals_vis = ResidualsPlot(lr_regr)\n",
    "residuals_vis.fit(X_train, y_train)  # Fit the training data to the visualizer\n",
    "residuals_vis.score(X_test, y_test)  # Evaluate the model on the test data\n",
    "residuals_vis.show() "
   ]
  },
  {
   "cell_type": "code",
   "execution_count": 42,
   "metadata": {},
   "outputs": [
    {
     "name": "stderr",
     "output_type": "stream",
     "text": [
      "C:\\Users\\nwach\\anaconda3\\Lib\\site-packages\\sklearn\\base.py:464: UserWarning: X does not have valid feature names, but LinearRegression was fitted with feature names\n",
      "  warnings.warn(\n"
     ]
    },
    {
     "data": {
      "image/png": "[encoded data removed]",
      "text/plain": [
       "<Figure size 900x700 with 1 Axes>"
      ]
     },
     "metadata": {},
     "output_type": "display_data"
    },
    {
     "data": {
      "text/plain": [
       "<Axes: title={'center': 'Prediction Error for LinearRegression'}, xlabel='$y$', ylabel='$\\\\hat{y}$'>"
      ]
     },
     "execution_count": 42,
     "metadata": {},
     "output_type": "execute_result"
    }
   ],
   "source": [
    "# Visualize the prediction error\n",
    "fig, ax = plt.subplots(figsize=(9, 7))\n",
    "predError_vis = PredictionError(lr_regr)\n",
    "predError_vis.fit(X_train, y_train)  # Fit the training data to the visualizer\n",
    "predError_vis.score(X_test, y_test)  # Evaluate the model on the test data\n",
    "predError_vis.show(ax=ax)"
   ]
  },
  {
   "cell_type": "code",
   "execution_count": null,
   "metadata": {},
   "outputs": [],
   "source": []
  },
  {
   "cell_type": "code",
   "execution_count": null,
   "metadata": {},
   "outputs": [],
   "source": []
  }
 ],
 "metadata": {
  "interpreter": {
   "hash": "d7a18bc08bf6b314cad8b0dd8f53415ad78d1015cc806d14e4873c235fb4e191"
  },
  "kernelspec": {
   "display_name": "Python 3 (ipykernel)",
   "language": "python",
   "name": "python3"
  },
  "language_info": {
   "codemirror_mode": {
    "name": "ipython",
    "version": 3
   },
   "file_extension": ".py",
   "mimetype": "text/x-python",
   "name": "python",
   "nbconvert_exporter": "python",
   "pygments_lexer": "ipython3",
   "version": "3.11.4"
  }
 },
 "nbformat": 4,
 "nbformat_minor": 2
}
